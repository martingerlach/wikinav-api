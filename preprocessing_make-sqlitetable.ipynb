{
 "cells": [
  {
   "cell_type": "markdown",
   "metadata": {},
   "source": [
    "We save the [clickstream-dump](https://dumps.wikimedia.org/other/clickstream/readme.html) in a more usable form to get all incoming and outgoing clicks for a given page.\n",
    "\n",
    "The format of the dumps is:\n",
    "\n",
    "    source, target, type, count\n",
    "    \n",
    "Here, we save two dictionaries, sources and targets, such that for a given page*:\n",
    "\n",
    "    - sources contains all entries where page* is the target\n",
    "    - targets contains all entries where page* is the source (only for entries where type=internal; otherwise we would have an entry for page*=other-search which would contain all pages)\n",
    "    \n",
    "We save the dictionaries as sqlite-tables using sqlitedict so we can query without loading all data into memory."
   ]
  },
  {
   "cell_type": "code",
   "execution_count": 1,
   "metadata": {},
   "outputs": [],
   "source": [
    "import gzip  # necessary for decompressing dump file into text format\n",
    "import os\n",
    "from sqlitedict import SqliteDict\n",
    "from collections import defaultdict"
   ]
  },
  {
   "cell_type": "code",
   "execution_count": 2,
   "metadata": {},
   "outputs": [],
   "source": [
    "PATH_data = \"data/clickstream-ptwiki-2021-04.tsv.gz\"\n"
   ]
  },
  {
   "cell_type": "code",
   "execution_count": 3,
   "metadata": {},
   "outputs": [
    {
     "name": "stdout",
     "output_type": "stream",
     "text": [
      "There dump-file contains 1873633 lines\n"
     ]
    }
   ],
   "source": [
    "N=0\n",
    "with gzip.open(PATH_data,\"rt\") as fin:\n",
    "    for line in fin:\n",
    "        N+=1\n",
    "print(\"There dump-file contains %s lines\"%N)"
   ]
  },
  {
   "cell_type": "code",
   "execution_count": 4,
   "metadata": {},
   "outputs": [],
   "source": [
    "## we save the sources and the targets as dictionaries \n",
    "## dict_sources[target-page] = [(source-page, type, count), ()]\n",
    "dict_sources = defaultdict(list)\n",
    "dict_targets = defaultdict(list)\n",
    "\n",
    "with gzip.open(PATH_data,\"rt\") as fin:\n",
    "    for line in fin:\n",
    "        N+=1\n",
    "        line_split = line.strip().split()\n",
    "        page_source = str(line_split[0])\n",
    "        page_target = str(line_split[1])\n",
    "        link_type = str(line_split[2])\n",
    "        link_count = int(line_split[3])\n",
    "        \n",
    "        \n",
    "        dict_sources[page_target].append( (page_source,link_type,link_count) )\n",
    "        if link_type == \"link\":\n",
    "            dict_targets[page_source].append( (page_target,link_type,link_count) )"
   ]
  },
  {
   "cell_type": "code",
   "execution_count": 5,
   "metadata": {},
   "outputs": [],
   "source": [
    "## save the dictionaries as sqlite-tables\n",
    "## we only save the 10 souces/targets with most counts, respectively\n",
    "db_sources = SqliteDict('sources.sqlite',flag=\"n\", autocommit=False)\n",
    "for k,v in dict_sources.items():\n",
    "    if len(v)>0:\n",
    "        v.sort(key=lambda a: a[2],reverse=True)\n",
    "        db_sources[k] = v[:10]\n",
    "db_sources.commit()\n",
    "\n",
    "db_targets = SqliteDict('targets.sqlite',flag=\"n\", autocommit=False)\n",
    "for k,v in dict_targets.items():\n",
    "    if len(v)>0:\n",
    "        v.sort(key=lambda a: a[2],reverse=True)\n",
    "        db_targets[k] = v[:10]\n",
    "db_targets.commit()\n"
   ]
  },
  {
   "cell_type": "markdown",
   "metadata": {},
   "source": [
    "## Check an example"
   ]
  },
  {
   "cell_type": "code",
   "execution_count": 6,
   "metadata": {},
   "outputs": [
    {
     "name": "stdout",
     "output_type": "stream",
     "text": [
      "selected page is: Supremo_Tribunal_Federal\n",
      "Sources are:  [('other-search', 'external', 123820), ('other-empty', 'external', 10490), ('Lista_de_ministros_do_Supremo_Tribunal_Federal', 'link', 642), ('other-external', 'external', 590), ('other-internal', 'external', 530), ('Nunes_Marques', 'link', 376), ('Luiz_Fux', 'link', 344), ('Lista_de_presidentes_do_Supremo_Tribunal_Federal', 'link', 322), ('Luís_Roberto_Barroso', 'link', 281), ('Marco_Aurélio_Mello', 'link', 255)]\n",
      "Targets are:  [('Nunes_Marques', 'link', 2514), ('Ricardo_Lewandowski', 'link', 1880), ('Luiz_Fux', 'link', 1853), ('Lista_de_presidentes_do_Supremo_Tribunal_Federal', 'link', 1641), ('Lista_de_ministros_do_Supremo_Tribunal_Federal', 'link', 1583), ('Rosa_Weber', 'link', 1542), ('Marco_Aurélio_Mello', 'link', 1375), ('Dias_Toffoli', 'link', 1244), ('Alexandre_de_Moraes', 'link', 999), ('Gilmar_Mendes', 'link', 909)]\n"
     ]
    }
   ],
   "source": [
    "page_title = \"Supremo_Tribunal_Federal\"\n",
    "print(\"selected page is: %s\"%page_title)\n",
    "print(\"Sources are: \", db_sources[page_title])\n",
    "print(\"Targets are: \", db_targets[page_title])"
   ]
  },
  {
   "cell_type": "code",
   "execution_count": null,
   "metadata": {},
   "outputs": [],
   "source": []
  },
  {
   "cell_type": "code",
   "execution_count": null,
   "metadata": {},
   "outputs": [],
   "source": []
  },
  {
   "cell_type": "code",
   "execution_count": null,
   "metadata": {},
   "outputs": [],
   "source": []
  },
  {
   "cell_type": "code",
   "execution_count": null,
   "metadata": {},
   "outputs": [],
   "source": []
  }
 ],
 "metadata": {
  "kernelspec": {
   "display_name": "base",
   "language": "python",
   "name": "base"
  },
  "language_info": {
   "codemirror_mode": {
    "name": "ipython",
    "version": 3
   },
   "file_extension": ".py",
   "mimetype": "text/x-python",
   "name": "python",
   "nbconvert_exporter": "python",
   "pygments_lexer": "ipython3",
   "version": "3.7.4"
  }
 },
 "nbformat": 4,
 "nbformat_minor": 2
}
